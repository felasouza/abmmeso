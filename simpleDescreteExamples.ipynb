{
 "cells": [
  {
   "cell_type": "code",
   "execution_count": 1,
   "metadata": {},
   "outputs": [],
   "source": [
    "import pylab\n",
    "import simulationRunner"
   ]
  },
  {
   "cell_type": "code",
   "execution_count": null,
   "metadata": {},
   "outputs": [
    {
     "ename": "AttributeError",
     "evalue": "'float' object has no attribute 'start'",
     "output_type": "error",
     "traceback": [
      "\u001b[1;31m---------------------------------------------------------------------------\u001b[0m",
      "\u001b[1;31mAttributeError\u001b[0m                            Traceback (most recent call last)",
      "Cell \u001b[1;32mIn[2], line 19\u001b[0m\n\u001b[0;32m     16\u001b[0m nodes \u001b[38;5;241m=\u001b[39m [origin_node, oneOneNode, destination_node]\n\u001b[0;32m     18\u001b[0m sim \u001b[38;5;241m=\u001b[39m simulationRunner\u001b[38;5;241m.\u001b[39mSimulationRunner(links \u001b[38;5;241m=\u001b[39m links, nodes \u001b[38;5;241m=\u001b[39m nodes, time_step \u001b[38;5;241m=\u001b[39m \u001b[38;5;241m1\u001b[39m, total_time\u001b[38;5;241m=\u001b[39m\u001b[38;5;241m600\u001b[39m)\n\u001b[1;32m---> 19\u001b[0m sim\u001b[38;5;241m.\u001b[39mrun()\n",
      "File \u001b[1;32mc:\\clones\\abmmeso\\simulationRunner.py:24\u001b[0m, in \u001b[0;36mSimulationRunner.run\u001b[1;34m(self)\u001b[0m\n\u001b[0;32m     22\u001b[0m \u001b[38;5;28;01mfor\u001b[39;00m t \u001b[38;5;129;01min\u001b[39;00m \u001b[38;5;28mrange\u001b[39m(total_steps):\n\u001b[0;32m     23\u001b[0m     \u001b[38;5;28;01mfor\u001b[39;00m node \u001b[38;5;129;01min\u001b[39;00m \u001b[38;5;28mself\u001b[39m\u001b[38;5;241m.\u001b[39mnodes:\n\u001b[1;32m---> 24\u001b[0m         node\u001b[38;5;241m.\u001b[39mprepare_step(t)\n\u001b[0;32m     26\u001b[0m     \u001b[38;5;28;01mfor\u001b[39;00m link \u001b[38;5;129;01min\u001b[39;00m \u001b[38;5;28mself\u001b[39m\u001b[38;5;241m.\u001b[39mlinks:\n\u001b[0;32m     27\u001b[0m         link\u001b[38;5;241m.\u001b[39mcompute_demand_and_supplies(t)\n",
      "File \u001b[1;32mc:\\clones\\abmmeso\\discrete\\originNode.py:32\u001b[0m, in \u001b[0;36mOriginNode.prepare_step\u001b[1;34m(self, t)\u001b[0m\n\u001b[0;32m     30\u001b[0m vehicles_departed \u001b[38;5;241m=\u001b[39m \u001b[38;5;241m0\u001b[39m\n\u001b[0;32m     31\u001b[0m \u001b[38;5;28;01mfor\u001b[39;00m vehicle \u001b[38;5;129;01min\u001b[39;00m \u001b[38;5;28mself\u001b[39m\u001b[38;5;241m.\u001b[39mdemand_trips:\n\u001b[1;32m---> 32\u001b[0m     \u001b[38;5;28;01mif\u001b[39;00m vehicle\u001b[38;5;241m.\u001b[39mstart \u001b[38;5;241m<\u001b[39m\u001b[38;5;241m=\u001b[39m t:\n\u001b[0;32m     33\u001b[0m         vehicles_departed \u001b[38;5;241m+\u001b[39m\u001b[38;5;241m=\u001b[39m \u001b[38;5;241m1\u001b[39m\n\u001b[0;32m     34\u001b[0m         \u001b[38;5;28mself\u001b[39m\u001b[38;5;241m.\u001b[39mvehicles\u001b[38;5;241m.\u001b[39mappend(vehicle)\n",
      "\u001b[1;31mAttributeError\u001b[0m: 'float' object has no attribute 'start'"
     ]
    }
   ],
   "source": [
    "from discrete.originNode import OriginNode\n",
    "from discrete.destinationNode import DestinationNode\n",
    "from discrete.oneToOneNode import OneToOneNode\n",
    "from discrete.link import Link\n",
    "from trip import Trip\n",
    "inbound_link = Link(length=300, vf=30.0, w=6.0, kj=0.2)\n",
    "outbound_link = Link(length=300, vf=30.0, w=6.0, kj=0.1)\n",
    "\n",
    "demands = [0.3, 0.6, 0.3]\n",
    "trips = Trip.from_continuous_demand(demands, 600, [1,2])\n",
    "origin_node = OriginNode(1, inbound_link, trips)\n",
    "oneOneNode = OneToOneNode(2, inbound_link, outbound_link)\n",
    "destination_node = DestinationNode(3, outbound_link)\n",
    "\n",
    "links = [inbound_link, outbound_link]\n",
    "nodes = [origin_node, oneOneNode, destination_node]\n",
    "\n",
    "sim = simulationRunner.SimulationRunner(links = links, nodes = nodes, time_step = 1, total_time=600)\n",
    "sim.run()\n"
   ]
  }
 ],
 "metadata": {
  "kernelspec": {
   "display_name": "base",
   "language": "python",
   "name": "python3"
  },
  "language_info": {
   "codemirror_mode": {
    "name": "ipython",
    "version": 3
   },
   "file_extension": ".py",
   "mimetype": "text/x-python",
   "name": "python",
   "nbconvert_exporter": "python",
   "pygments_lexer": "ipython3",
   "version": "3.12.4"
  }
 },
 "nbformat": 4,
 "nbformat_minor": 2
}
