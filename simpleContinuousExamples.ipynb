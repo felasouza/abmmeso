{
 "cells": [
  {
   "cell_type": "code",
   "execution_count": null,
   "metadata": {},
   "outputs": [],
   "source": [
    "import pylab\n",
    "import simulationRunner\n",
    "import continuous"
   ]
  },
  {
   "cell_type": "markdown",
   "metadata": {},
   "source": [
    "# Basic lane drop case with congestion #\n",
    "\n",
    "Case with two links connected by an one-to-one connection and origin and one destination Node\n"
   ]
  },
  {
   "cell_type": "code",
   "execution_count": null,
   "metadata": {},
   "outputs": [],
   "source": [
    "from continuous.originNode import OriginNode\n",
    "from continuous.destinationNode import DestinationNode\n",
    "from continuous.oneToOneNode import OneToOneNode\n",
    "from continuous.link import Link\n",
    "\n",
    "inbound_link = Link(length=300, vf=30.0, w=6.0, kj=0.2)\n",
    "outbound_link = Link(length=300, vf=30.0, w=6.0, kj=0.1)\n",
    "\n",
    "demands = [0.3, 0.6, 0.3]\n",
    "origin_node = OriginNode(1, inbound_link, demands)\n",
    "oneOneNode = OneToOneNode(2, inbound_link, outbound_link)\n",
    "destination_node = DestinationNode(3, outbound_link)\n",
    "\n",
    "links = [inbound_link, outbound_link]\n",
    "nodes = [origin_node, oneOneNode, destination_node]\n",
    "\n",
    "sim = simulationRunner.SimulationRunner(links = links, nodes = nodes, time_step = 1, total_time=600)\n",
    "sim.run()\n"
   ]
  },
  {
   "cell_type": "code",
   "execution_count": null,
   "metadata": {},
   "outputs": [],
   "source": [
    "f, axs = pylab.subplots(1,3, figsize=(12,6))\n",
    "\n",
    "from_step = 0\n",
    "to_step = 600\n",
    "axs[0].plot(inbound_link.cumulative_inflows[from_step:to_step])\n",
    "axs[0].plot(inbound_link.cumulative_outflows[from_step:to_step])\n",
    "\n",
    "axs[1].plot(outbound_link.cumulative_inflows[from_step:to_step])\n",
    "axs[1].plot(outbound_link.cumulative_outflows[from_step:to_step])\n",
    "\n",
    "axs[2].plot(origin_node.entry_queue[from_step:to_step])\n",
    "axs[2].plot(origin_node.outflow[from_step:to_step])\n",
    "axs[2].plot(destination_node.inflow[from_step:to_step])\n",
    "\n",
    "pylab.show()"
   ]
  }
 ],
 "metadata": {
  "kernelspec": {
   "display_name": "base",
   "language": "python",
   "name": "python3"
  },
  "language_info": {
   "codemirror_mode": {
    "name": "ipython",
    "version": 3
   },
   "file_extension": ".py",
   "mimetype": "text/x-python",
   "name": "python",
   "nbconvert_exporter": "python",
   "pygments_lexer": "ipython3",
   "version": "3.12.4"
  }
 },
 "nbformat": 4,
 "nbformat_minor": 2
}
